{
 "cells": [
  {
   "cell_type": "code",
   "execution_count": 9,
   "id": "2b898141-8976-4dc4-84aa-95138e72b2ee",
   "metadata": {},
   "outputs": [
    {
     "name": "stdout",
     "output_type": "stream",
     "text": [
      "Sameera\n",
      "Multi-line commenting\n",
      "Type of a:  <class 'int'>\n",
      "Type of b:  <class 'bool'>\n",
      "Type of c:  <class 'float'>\n",
      "Type of String:  <class 'str'>\n",
      "global :  5\n",
      "Inside f() :  5\n",
      "global :  5\n",
      "Inside g() :  2\n",
      "global :  5\n",
      "Inside h() :  4\n",
      "global :  4\n"
     ]
    }
   ],
   "source": [
    "# Write a program to print your name.\n",
    "\n",
    "print (\"Sameera\") \n",
    "\n",
    "# Write a program for a Single line comment and multi-line comments.\n",
    "\n",
    "# Read the input from the user\n",
    "# Perform some operations on the input data\n",
    "# Output the result\n",
    "print(\"Multi-line commenting\")\n",
    "\n",
    "# Define variables for different Data Types int, Boolean, char, float, double and print on the Console.\n",
    "\n",
    "a = -5\n",
    "print(\"Type of a: \", type(a))\n",
    "b = False\n",
    "print(\"Type of b: \", type(b))\n",
    "c = 5.0\n",
    "print(\"Type of c: \", type(c))\n",
    "String = 'Hello'\n",
    "print(\"Type of String: \", type(String))\n",
    "\n",
    "# Define the local and Global variables with the same name and print both variables and understand the scope of the variables.\n",
    "\n",
    "a = 5\n",
    "# Uses global because there is no local 'a'\n",
    "def f():\n",
    "    print('Inside f() : ', a)\n",
    "# Variable 'a' is redefined as a local\n",
    "def g():\n",
    "    a = 2\n",
    "    print('Inside g() : ', a) \n",
    "# Uses global keyword to modify global 'a'\n",
    "def h():\n",
    "    global a\n",
    "    a = 4      #Value of 'a' modified\n",
    "    print('Inside h() : ', a)  \n",
    "# Global scope\n",
    "print('global : ', a)\n",
    "f()\n",
    "print('global : ', a)\n",
    "g()\n",
    "print('global : ', a)\n",
    "h()\n",
    "print('global : ', a)"
   ]
  },
  {
   "cell_type": "code",
   "execution_count": null,
   "id": "dcb1f3df-8570-465b-a448-9032b3acbab5",
   "metadata": {},
   "outputs": [],
   "source": []
  }
 ],
 "metadata": {
  "kernelspec": {
   "display_name": "Python 3 (ipykernel)",
   "language": "python",
   "name": "python3"
  },
  "language_info": {
   "codemirror_mode": {
    "name": "ipython",
    "version": 3
   },
   "file_extension": ".py",
   "mimetype": "text/x-python",
   "name": "python",
   "nbconvert_exporter": "python",
   "pygments_lexer": "ipython3",
   "version": "3.12.4"
  }
 },
 "nbformat": 4,
 "nbformat_minor": 5
}
