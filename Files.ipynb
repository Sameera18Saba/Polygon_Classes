{
 "cells": [
  {
   "cell_type": "code",
   "execution_count": 37,
   "id": "2b898141-8976-4dc4-84aa-95138e72b2ee",
   "metadata": {
    "scrolled": true
   },
   "outputs": [
    {
     "name": "stdout",
     "output_type": "stream",
     "text": [
      "We are experiencing a dangerous decline in nature and humans are causing it:\n",
      "\n",
      "We are using the equivalent of 1.6 Earths to maintain our current way of life and ecosystems cannot keep up with our demands. (Becoming Generation Restoration, UNEP)\n",
      "One million of the worldâ€™s estimated 8 million species of plants and animals are threatened with extinction. (IPBES)\n",
      "75 percent of the Earthâ€™s land surface has been significantly altered by human actions, including 85 percent of wetland areas. (IPBES)\n",
      "66 percent of ocean area is impacted by human activities, including from fisheries and pollution. (IPBES)\n",
      "Close to 90% of the worldâ€™s marine fish stocks are fully exploited, overexploited or depleted. (UNCTAD)\n",
      "Our global food system is the primary driver of biodiversity loss with agriculture alone being the identified threat 24,000 of the 28,000 species at risk of extinction. (Chatham House and UNEP)\n",
      "Agricultural expansion is said to account for 70% of the projected loss of terrestrial biodiversity. (CBD)\n",
      "\n",
      "\n",
      "We are expe\n",
      "\n"
     ]
    }
   ],
   "source": [
    "# Write a program to read text file.\n",
    "\n",
    "file1 = open(\"HW.txt\",\"r\")\n",
    "data = file1.read()\n",
    "print(data)\n",
    "print()\n",
    "\n",
    "file2 = open(\"Blank.txt\",\"w\")\n",
    "str1 = 'Python'\n",
    "file2.write(str1)\n",
    "print()\n",
    "\n",
    "file3 = open(\"HW.txt\",\"r+\")\n",
    "print(file3.readline(11))\n",
    "print()\n",
    "\n"
   ]
  },
  {
   "cell_type": "code",
   "execution_count": null,
   "id": "dd6740fb-5f22-4e5f-809d-12c90ae6f109",
   "metadata": {},
   "outputs": [],
   "source": []
  }
 ],
 "metadata": {
  "kernelspec": {
   "display_name": "Python 3 (ipykernel)",
   "language": "python",
   "name": "python3"
  },
  "language_info": {
   "codemirror_mode": {
    "name": "ipython",
    "version": 3
   },
   "file_extension": ".py",
   "mimetype": "text/x-python",
   "name": "python",
   "nbconvert_exporter": "python",
   "pygments_lexer": "ipython3",
   "version": "3.12.4"
  }
 },
 "nbformat": 4,
 "nbformat_minor": 5
}
