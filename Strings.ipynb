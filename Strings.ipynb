{
 "cells": [
  {
   "cell_type": "code",
   "execution_count": 23,
   "id": "2b898141-8976-4dc4-84aa-95138e72b2ee",
   "metadata": {},
   "outputs": [
    {
     "name": "stdin",
     "output_type": "stream",
     "text": [
      "Enter first number:  13\n",
      "Enter second number:  50\n"
     ]
    },
    {
     "name": "stdout",
     "output_type": "stream",
     "text": [
      "The sum of 13 and 50 is 63.0\n",
      "The subtraction of 13 and 50 is -37.0\n",
      "The multiplication of 13 and 50 is 650.0\n",
      "The division of 13 and 50 is 0.26\n",
      "The value of a is  2\n",
      "INCREMENTED FOR LOOP\n",
      "0\n",
      "1\n",
      "2\n",
      "3\n",
      "4\n",
      "\n",
      "DECREMENTED FOR LOOP\n",
      "4\n",
      "3\n",
      "2\n",
      "1\n",
      "0\n"
     ]
    },
    {
     "name": "stdin",
     "output_type": "stream",
     "text": [
      "Enter first number:  541\n",
      "Enter second number:  25\n"
     ]
    },
    {
     "name": "stdout",
     "output_type": "stream",
     "text": [
      "Both numbers are not equal\n",
      "True\n",
      "True\n",
      "False\n",
      "False\n",
      "False\n",
      "True\n"
     ]
    },
    {
     "name": "stdin",
     "output_type": "stream",
     "text": [
      "Enter first number:  25\n",
      "Enter second number:  25\n"
     ]
    },
    {
     "name": "stdout",
     "output_type": "stream",
     "text": [
      "25.0  is greater \n",
      "25.0  is smaller \n"
     ]
    }
   ],
   "source": [
    "# Define a static variable and access that through a class.\n",
    "\n",
    "class Python:\n",
    "# Access through class    \n",
    " staticVariable = 9 \n",
    "print(Python.staticVariable)\n",
    "\n",
    "#Change within an class\n",
    "Python.staticVariable = 12\n",
    "print(Python.staticVariable) # Gives 12\n",
    "\n",
    "#Access through an instance\n",
    "instance = Python()\n",
    "print(instance.staticVariable) # Gives 12\n",
    "\n",
    "#Change within an instance\n",
    "instance.staticVariable = 15\n",
    "print(instance.staticVariable) # Gives 15\n",
    "print(Python.staticVariable) #Gives 12"
   ]
  },
  {
   "cell_type": "code",
   "execution_count": null,
   "id": "dcb1f3df-8570-465b-a448-9032b3acbab5",
   "metadata": {},
   "outputs": [],
   "source": []
  }
 ],
 "metadata": {
  "kernelspec": {
   "display_name": "Python 3 (ipykernel)",
   "language": "python",
   "name": "python3"
  },
  "language_info": {
   "codemirror_mode": {
    "name": "ipython",
    "version": 3
   },
   "file_extension": ".py",
   "mimetype": "text/x-python",
   "name": "python",
   "nbconvert_exporter": "python",
   "pygments_lexer": "ipython3",
   "version": "3.12.4"
  }
 },
 "nbformat": 4,
 "nbformat_minor": 5
}
