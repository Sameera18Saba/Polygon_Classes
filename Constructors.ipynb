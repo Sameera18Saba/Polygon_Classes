{
 "cells": [
  {
   "cell_type": "code",
   "execution_count": 9,
   "id": "2b898141-8976-4dc4-84aa-95138e72b2ee",
   "metadata": {},
   "outputs": [
    {
     "name": "stdout",
     "output_type": "stream",
     "text": [
      "Sameera\n",
      "KG\n",
      "Name: Sameera\n",
      "Roll: 5\n"
     ]
    },
    {
     "ename": "AttributeError",
     "evalue": "'D' object has no attribute 'access__dis'",
     "output_type": "error",
     "traceback": [
      "\u001b[1;31m---------------------------------------------------------------------------\u001b[0m",
      "\u001b[1;31mAttributeError\u001b[0m                            Traceback (most recent call last)",
      "Cell \u001b[1;32mIn[9], line 69\u001b[0m\n\u001b[0;32m     67\u001b[0m obj\u001b[38;5;241m.\u001b[39mdsiplayName()\n\u001b[0;32m     68\u001b[0m obj\u001b[38;5;241m.\u001b[39maccess_displayRoll()\n\u001b[1;32m---> 69\u001b[0m obj\u001b[38;5;241m.\u001b[39maccess__dis\n",
      "\u001b[1;31mAttributeError\u001b[0m: 'D' object has no attribute 'access__dis'"
     ]
    }
   ],
   "source": [
    "from unicodedata import name\n",
    "\n",
    "\n",
    "class A:\n",
    "    # default constructor\n",
    "    def __init__(self):\n",
    "     self.name = \"Sameera\"\n",
    "     # a method for printing data members\n",
    "    def print_A(self):\n",
    "        print(self.name)\n",
    "# creating object of the class\n",
    "obj = A()\n",
    "# calling the instance method using the object obj\n",
    "obj.print_A()\n",
    "\n",
    "class B(A):\n",
    "    def __init__(self):\n",
    "     self.name = \"KG\"\n",
    "    def print_B(self):\n",
    "        print(self.name)\n",
    "obj1 = B()\n",
    "obj1.print_B()\n",
    "\n",
    "class C:\n",
    "    # public data member\n",
    "    name = None\n",
    "\n",
    "     # protected data members\n",
    "    _roll = None \n",
    "\n",
    "     # private data member\n",
    "    __branch = None\n",
    "\n",
    "    # constructor\n",
    "    def __init__(self,name,roll,branch):\n",
    "        self.name = name  \n",
    "        self._roll = roll\n",
    "        self.__branch = branch  \n",
    "    def dsiplayName(self):\n",
    "        print(\"Name:\",self.name)\n",
    "        # protected member function\n",
    "    def _displayRoll(self):\n",
    "         # accessing protected data members\n",
    "        print(\"Roll:\",self._roll)\n",
    "\n",
    "         # private member function \n",
    "    def __displayBranch(self):\n",
    "        # accessing private data members\n",
    "        print(\"Branch:\",self.__branch)\n",
    "\n",
    "         # public member function\n",
    "    def access__displayBranch(self):     \n",
    "          # accessing private member function\n",
    "        self.__displayBranch()\n",
    "\n",
    "class D(C):\n",
    "    def __init__(self,name, roll, branch):\n",
    "        super().__init__(name,roll, branch)\n",
    "      # public member function\n",
    "    def access_displayRoll(self):            \n",
    "         # accessing protected member functions of super class\n",
    "        self._displayRoll()\n",
    "\n",
    "# creating objects of the derived class    \n",
    "obj = D(\"Sameera\", 5 , \"CSE\")\n",
    "# calling public member functions of the class  \n",
    "obj.dsiplayName()\n",
    "obj.access_displayRoll()\n",
    "obj.access__dis"
   ]
  },
  {
   "cell_type": "code",
   "execution_count": null,
   "id": "dcb1f3df-8570-465b-a448-9032b3acbab5",
   "metadata": {},
   "outputs": [],
   "source": []
  }
 ],
 "metadata": {
  "kernelspec": {
   "display_name": "Python 3 (ipykernel)",
   "language": "python",
   "name": "python3"
  },
  "language_info": {
   "codemirror_mode": {
    "name": "ipython",
    "version": 3
   },
   "file_extension": ".py",
   "mimetype": "text/x-python",
   "name": "python",
   "nbconvert_exporter": "python",
   "pygments_lexer": "ipython3",
   "version": "3.12.4"
  }
 },
 "nbformat": 4,
 "nbformat_minor": 5
}
